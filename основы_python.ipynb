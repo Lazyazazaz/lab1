{
  "cells": [
    {
      "cell_type": "markdown",
      "metadata": {
        "id": "M-DGa20PaHnu"
      },
      "source": [
        "#Задача 1\n",
        "Написать функцию на вход которой подается строка, состоящая из латинских букв.\n",
        "Функция должна вернуть количество гласных букв (a, e, i, o, u) в этой строке. Написать тесты для кода"
      ]
    },
    {
      "cell_type": "code",
      "execution_count": 57,
      "metadata": {
        "id": "XvX8X_JJ6PCb"
      },
      "outputs": [
        {
          "name": "stdout",
          "output_type": "stream",
          "text": [
            "3\n",
            "7\n"
          ]
        }
      ],
      "source": [
        "def count_vowels(string: str) -> int:\n",
        "    total = 0\n",
        "    for char in string:\n",
        "        if char in 'aeiouy':\n",
        "            total += 1\n",
        "    return total\n",
        "\n",
        "print(count_vowels(string=\"Hello, world!\"))\n",
        "print(count_vowels(string=\"My name is ZhekichPro\"))"
      ]
    },
    {
      "cell_type": "markdown",
      "metadata": {
        "id": "t2ClV_Y0bbr6"
      },
      "source": [
        "# Задача 2\n",
        "Написать функцию на вход, которой подается строка. Функция должна вернуть true, если\n",
        "каждый символ в строке встречается только 1 раз, иначе должна вернуть false. Написать тесты для кода"
      ]
    },
    {
      "cell_type": "code",
      "execution_count": 56,
      "metadata": {
        "id": "FppbECao6VIz"
      },
      "outputs": [
        {
          "name": "stdout",
          "output_type": "stream",
          "text": [
            "True\n",
            "False\n"
          ]
        }
      ],
      "source": [
        "def is_set(string: str) -> bool:\n",
        "    unique_chars = set()\n",
        "    for char in string:\n",
        "        if char in unique_chars:\n",
        "            return False\n",
        "        unique_chars.add(char)\n",
        "    return True\n",
        "\n",
        "print(is_set(string=\"asdfghjkl\"))\n",
        "print(is_set(string=\"Hello, world!\"))"
      ]
    },
    {
      "cell_type": "markdown",
      "metadata": {
        "id": "udRiIK1cdt6E"
      },
      "source": [
        "# Задача 3\n",
        "Написать функцию, которая принимает положительное число и возвращает количество\n",
        "бит равных 1 в этом числе. Написать тесты для кода"
      ]
    },
    {
      "cell_type": "code",
      "execution_count": 55,
      "metadata": {
        "id": "6tkfDJRz6dp_"
      },
      "outputs": [
        {
          "name": "stdout",
          "output_type": "stream",
          "text": [
            "1\n",
            "3\n",
            "7\n"
          ]
        }
      ],
      "source": [
        "def count_one_bits(number: int) -> int:\n",
        "    binary_rep = bin(number)[2:]\n",
        "    count = 0\n",
        "    for bit in binary_rep:\n",
        "        if bit == '1':\n",
        "            count += 1\n",
        "    return count\n",
        "\n",
        "print(count_one_bits(number=1))\n",
        "print(count_one_bits(number=11))\n",
        "print(count_one_bits(number=148563))"
      ]
    },
    {
      "cell_type": "markdown",
      "metadata": {
        "id": "26dDUz-Ae17N"
      },
      "source": [
        "# Задача 4\n",
        "Написать функцию, которая принимает положительное число. Функция должна вернуть то,\n",
        "сколько раз необходимо перемножать цифры числа или результат перемножения, чтобы\n",
        "получилось число состоящее из одной цифры.\n",
        "Например, для входного числа:\n",
        "· 39 функция должна вернуть 3, так как 3*9=27 => 2*7=14 => 1*4=4\n",
        "· 4 функция должна вернуть 0, так как число уже состоит из одной цифры\n",
        "· 999 функция должна вернуть 4, так как 9*9*9=729 => 7*2*9=126 => 1*2*6=12 =>\n",
        "1*2=2. Написать тесты для кода"
      ]
    },
    {
      "cell_type": "code",
      "execution_count": 54,
      "metadata": {
        "id": "BH1A_Mgi6i4G"
      },
      "outputs": [
        {
          "name": "stdout",
          "output_type": "stream",
          "text": [
            "3\n",
            "0\n",
            "4\n"
          ]
        }
      ],
      "source": [
        "def magic(n: int) -> int:\n",
        "    count = 0\n",
        "    while n >= 10:\n",
        "        product = 1\n",
        "        for digit in str(n):\n",
        "            product *= int(digit)\n",
        "        n = product\n",
        "        count += 1  \n",
        "    return count\n",
        "\n",
        "print(magic(n=39))\n",
        "print(magic(n=4))\n",
        "print(magic(n=999))"
      ]
    },
    {
      "cell_type": "markdown",
      "metadata": {
        "id": "0nS-kIa8g8vd"
      },
      "source": [
        "# Задача 5\n",
        "Написать функцию, которая принимает два целочисленных вектора одинаковой длины и\n",
        "возвращает среднеквадратическое отклонение двух векторов. Написать тесты для кода"
      ]
    },
    {
      "cell_type": "code",
      "execution_count": 53,
      "metadata": {
        "id": "8iphx4LM6xbx"
      },
      "outputs": [
        {
          "name": "stdout",
          "output_type": "stream",
          "text": [
            "0.8660254037844386\n",
            "1.0\n"
          ]
        }
      ],
      "source": [
        "def mse(pred, true):\n",
        "    total = 0\n",
        "    for x, y in zip(pred, true):\n",
        "        total += (x - y) ** 2\n",
        "    mean_square_error = total / len(pred)\n",
        "    return mean_square_error ** 0.5\n",
        "\n",
        "vec1 = [2, 5, 7, 10]\n",
        "vec2 = [3, 5, 6, 9]\n",
        "print(mse(vec1, vec2))\n",
        "\n",
        "vec1 = [0, 0, 0, 0]\n",
        "vec2 = [1, 1, 1, 1]\n",
        "print(mse(vec1, vec2))"
      ]
    },
    {
      "cell_type": "markdown",
      "metadata": {
        "id": "vpIPKL439zkw"
      },
      "source": [
        "# Задача 6\n",
        "Написать функцию, принимающая целое положительное число. Функция должна вернуть\n",
        "строку вида “(n1**p1)(n2**p2)…(nk**pk)” представляющая разложение числа на простые\n",
        "множители (если pi == 1, то выводить только ni).\n",
        "Например, для числа 86240 функция должна вернуть “(2**5)(5)(7**2)(11)”. Написать тесты для кода"
      ]
    },
    {
      "cell_type": "code",
      "execution_count": 52,
      "metadata": {
        "id": "pFebmcZk94Jw"
      },
      "outputs": [
        {
          "name": "stdout",
          "output_type": "stream",
          "text": [
            "(25)(5)(72)(11)\n",
            "(2)(11)(41)(263)\n"
          ]
        }
      ],
      "source": [
        "def prime_factors_decomposition(num: int) -> str:\n",
        "    factors = []\n",
        "    divisor = 2\n",
        "    while num > 1:\n",
        "        if num % divisor == 0:\n",
        "            num //= divisor\n",
        "            factors.append(divisor)\n",
        "        else:\n",
        "            divisor += 1\n",
        "\n",
        "    decomposition_str = \"\"\n",
        "    for factor in sorted(set(factors)):\n",
        "        power = factors.count(factor)\n",
        "        if power > 1:\n",
        "            decomposition_str += f\"({factor}{power})\"\n",
        "        else:\n",
        "            decomposition_str += f\"({factor})\"\n",
        "    \n",
        "    return decomposition_str\n",
        "\n",
        "print(prime_factors_decomposition(86240))\n",
        "print(prime_factors_decomposition(237226))\n"
      ]
    },
    {
      "cell_type": "markdown",
      "metadata": {
        "id": "ps2s0BudX7A2"
      },
      "source": [
        "# Задача 7\n",
        "Написать функцию, принимающая целое число n, задающее количество кубиков. Функция\n",
        "должна определить, можно ли из данного кол-ва кубиков построить пирамиду, то есть\n",
        "можно ли представить число n как 1^2+2^2+3^2+…+k^2. Если можно, то функция должна\n",
        "вернуть k, иначе строку “It is impossible”. Написать тесты для кода"
      ]
    },
    {
      "cell_type": "code",
      "execution_count": 51,
      "metadata": {
        "id": "3YPjEXxhX_YT"
      },
      "outputs": [
        {
          "name": "stdout",
          "output_type": "stream",
          "text": [
            "It is impossible\n",
            "3\n",
            "4\n"
          ]
        }
      ],
      "source": [
        "def pyramid(cubes: int) -> str:\n",
        "    level = 1\n",
        "    while cubes > 0:\n",
        "        cubes -= level ** 2\n",
        "        level += 1\n",
        "\n",
        "    return \"It is impossible\" if cubes < 0 else level - 1\n",
        "\n",
        "print(pyramid(103))\n",
        "print(pyramid(14))\n",
        "print(pyramid(30))\n"
      ]
    },
    {
      "cell_type": "markdown",
      "metadata": {
        "id": "KeKgmIdAQMEJ"
      },
      "source": [
        "# Задача 8\n",
        "Функция принимает на вход положительное число и определяет является ли оно сбалансированным, т.е. сумма цифр до средних равна сумме цифр после. Средними в случае нечетного числа цифр считать одну цифру, в случае четного - две средних. Написать тесты для кода"
      ]
    },
    {
      "cell_type": "code",
      "execution_count": 50,
      "metadata": {
        "id": "gMAAqtqlQrZt"
      },
      "outputs": [
        {
          "name": "stdout",
          "output_type": "stream",
          "text": [
            "True\n",
            "True\n",
            "False\n",
            "True\n"
          ]
        }
      ],
      "source": [
        "def check_balance(num: int) -> bool:\n",
        "    digits = [int(d) for d in str(num)]\n",
        "    length = len(digits)\n",
        "    if length % 2 == 0:\n",
        "        return sum(digits[:length // 2 - 1]) == sum(digits[length // 2 + 1:])\n",
        "    return sum(digits[:length // 2]) == sum(digits[length // 2 + 1:])\n",
        "\n",
        "print(check_balance(456654))            \n",
        "print(check_balance(123321))   \n",
        "print(check_balance(123432))                    \n",
        "print(check_balance(4321234))          "
      ]
    }
  ],
  "metadata": {
    "colab": {
      "provenance": []
    },
    "kernelspec": {
      "display_name": "Python 3",
      "name": "python3"
    },
    "language_info": {
      "codemirror_mode": {
        "name": "ipython",
        "version": 3
      },
      "file_extension": ".py",
      "mimetype": "text/x-python",
      "name": "python",
      "nbconvert_exporter": "python",
      "pygments_lexer": "ipython3",
      "version": "3.12.7"
    }
  },
  "nbformat": 4,
  "nbformat_minor": 0
}
